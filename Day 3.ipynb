{
 "cells": [
  {
   "cell_type": "markdown",
   "id": "58b9ad1b",
   "metadata": {},
   "source": [
    "# Loops and Functions"
   ]
  },
  {
   "cell_type": "code",
   "execution_count": 1,
   "id": "e1f946c3",
   "metadata": {},
   "outputs": [],
   "source": [
    "fruits = ['Apple','Banana','Pear']"
   ]
  },
  {
   "cell_type": "code",
   "execution_count": 2,
   "id": "04b5d205",
   "metadata": {},
   "outputs": [
    {
     "name": "stdout",
     "output_type": "stream",
     "text": [
      "Apple\n",
      "Banana\n",
      "Pear\n"
     ]
    }
   ],
   "source": [
    "for fruit in fruits:\n",
    "    print(fruit)"
   ]
  },
  {
   "cell_type": "code",
   "execution_count": 3,
   "id": "303c7a7e",
   "metadata": {},
   "outputs": [
    {
     "name": "stdout",
     "output_type": "stream",
     "text": [
      "Apple Pie\n",
      "Banana Pie\n",
      "Pear Pie\n"
     ]
    }
   ],
   "source": [
    "for fruit in fruits:\n",
    "    print(fruit + \" Pie\")"
   ]
  },
  {
   "cell_type": "code",
   "execution_count": 4,
   "id": "a06addac",
   "metadata": {},
   "outputs": [
    {
     "name": "stdout",
     "output_type": "stream",
     "text": [
      "['Apple', 'Banana', 'Pear']\n",
      "['Apple', 'Banana', 'Pear']\n",
      "['Apple', 'Banana', 'Pear']\n"
     ]
    }
   ],
   "source": [
    "for fruit in fruits:\n",
    "    print(fruits)"
   ]
  },
  {
   "cell_type": "code",
   "execution_count": 5,
   "id": "f72f5628",
   "metadata": {},
   "outputs": [
    {
     "name": "stdout",
     "output_type": "stream",
     "text": [
      "163.71\n"
     ]
    }
   ],
   "source": [
    "student_heights = [180,124,165,173,189,169,146]\n",
    "\n",
    "avg_student_height = (sum(student_heights)/len(student_heights))\n",
    "\n",
    "print(round(avg_student_height,2))"
   ]
  },
  {
   "cell_type": "markdown",
   "id": "82d6a93a",
   "metadata": {},
   "source": [
    "### Write a for loop to print numbers from 1 to 10.\n"
   ]
  },
  {
   "cell_type": "code",
   "execution_count": 6,
   "id": "787a6cd8",
   "metadata": {},
   "outputs": [
    {
     "name": "stdout",
     "output_type": "stream",
     "text": [
      "1\n",
      "2\n",
      "3\n",
      "4\n",
      "5\n",
      "6\n",
      "7\n",
      "8\n",
      "9\n",
      "10\n"
     ]
    }
   ],
   "source": [
    "for i in range(1,11):\n",
    "    print(i)"
   ]
  },
  {
   "cell_type": "markdown",
   "id": "e5636d0d",
   "metadata": {},
   "source": [
    "### Create a for loop to print the even numbers from 1 to 20.\n"
   ]
  },
  {
   "cell_type": "code",
   "execution_count": 7,
   "id": "94f81c17",
   "metadata": {},
   "outputs": [
    {
     "name": "stdout",
     "output_type": "stream",
     "text": [
      "2\n",
      "4\n",
      "6\n",
      "8\n",
      "10\n",
      "12\n",
      "14\n",
      "16\n",
      "18\n",
      "20\n"
     ]
    }
   ],
   "source": [
    "for i in range (2,21,2):\n",
    "    print(i)"
   ]
  },
  {
   "cell_type": "markdown",
   "id": "50287c91",
   "metadata": {},
   "source": [
    "### Write a for loop to calculate the sum of numbers from 1 to 10.\n"
   ]
  },
  {
   "cell_type": "code",
   "execution_count": 8,
   "id": "198ef65c",
   "metadata": {},
   "outputs": [
    {
     "name": "stdout",
     "output_type": "stream",
     "text": [
      "1\n",
      "3\n",
      "6\n",
      "10\n",
      "15\n",
      "21\n",
      "28\n",
      "36\n",
      "45\n",
      "55\n"
     ]
    }
   ],
   "source": [
    "total = 0\n",
    "for i in range (1,11):\n",
    "    total += i\n",
    "\n",
    "    print(total)"
   ]
  },
  {
   "cell_type": "code",
   "execution_count": 9,
   "id": "f7c5f294",
   "metadata": {},
   "outputs": [
    {
     "name": "stdout",
     "output_type": "stream",
     "text": [
      "55\n"
     ]
    }
   ],
   "source": [
    "total = 0\n",
    "for i in range (1,11):\n",
    "    total += i\n",
    "\n",
    "print(total)"
   ]
  },
  {
   "cell_type": "markdown",
   "id": "2096dcf6",
   "metadata": {},
   "source": [
    "### Write a for loop to iterate over a string and print each character.\n"
   ]
  },
  {
   "cell_type": "code",
   "execution_count": 10,
   "id": "0747d37c",
   "metadata": {},
   "outputs": [
    {
     "name": "stdout",
     "output_type": "stream",
     "text": [
      "H\n",
      "e\n",
      "l\n",
      "l\n",
      "o\n",
      "_\n",
      "w\n",
      "o\n",
      "r\n",
      "l\n",
      "d\n"
     ]
    }
   ],
   "source": [
    "text = 'Hello_world'\n",
    "\n",
    "for i in text:\n",
    "    print(i)"
   ]
  },
  {
   "cell_type": "code",
   "execution_count": 11,
   "id": "c1789bc9",
   "metadata": {},
   "outputs": [
    {
     "name": "stdout",
     "output_type": "stream",
     "text": [
      "123,176\n",
      "123,176\n"
     ]
    }
   ],
   "source": [
    "height = input().split() #This code will prompt the user to enter heights separated by spaces,\n",
    "#                         and then it will split the input string into a list of height values.\n",
    "\n",
    "for i in height:\n",
    "    print(i)"
   ]
  },
  {
   "cell_type": "code",
   "execution_count": 18,
   "id": "ab041471",
   "metadata": {},
   "outputs": [
    {
     "name": "stdout",
     "output_type": "stream",
     "text": [
      "44\n"
     ]
    }
   ],
   "source": [
    "my_list = [22,33,44]\n",
    "\n",
    "\n",
    "max_num = my_list[0]\n",
    "\n",
    "\n",
    "for num in my_list:\n",
    "    if num > max_num:\n",
    "        max_num = num   \n",
    "print(num)"
   ]
  },
  {
   "cell_type": "code",
   "execution_count": 19,
   "id": "4f89c4be",
   "metadata": {},
   "outputs": [
    {
     "name": "stdout",
     "output_type": "stream",
     "text": [
      "44\n"
     ]
    }
   ],
   "source": [
    "my_list = [22,33,44]\n",
    "\n",
    "\n",
    "max_num = 0\n",
    "\n",
    "\n",
    "for num in my_list:\n",
    "    if num > max_num:\n",
    "        max_num = num   \n",
    "print(num)"
   ]
  },
  {
   "cell_type": "code",
   "execution_count": 23,
   "id": "b4ccecb7",
   "metadata": {},
   "outputs": [
    {
     "name": "stdout",
     "output_type": "stream",
     "text": [
      "55\n"
     ]
    }
   ],
   "source": [
    "total = 0\n",
    "for i in range(1,11):\n",
    "    total += i\n",
    "print (total)"
   ]
  },
  {
   "cell_type": "code",
   "execution_count": 24,
   "id": "96784c4a",
   "metadata": {},
   "outputs": [
    {
     "name": "stdout",
     "output_type": "stream",
     "text": [
      "50\n",
      "625\n"
     ]
    }
   ],
   "source": [
    "target = int(input())\n",
    "\n",
    "even_sum = 0\n",
    "\n",
    "for i in range (1, target+1,2):\n",
    "    even_sum += i\n",
    "print(even_sum)"
   ]
  },
  {
   "cell_type": "markdown",
   "id": "4e97c8ea",
   "metadata": {},
   "source": [
    "### FIZZ / BUZZ"
   ]
  },
  {
   "cell_type": "code",
   "execution_count": 27,
   "id": "9b3d88d3",
   "metadata": {},
   "outputs": [
    {
     "name": "stdout",
     "output_type": "stream",
     "text": [
      "1\n",
      "2\n",
      "Fizz\n",
      "3\n",
      "4\n",
      "Buzz\n",
      "5\n",
      "Fizz\n",
      "6\n",
      "7\n",
      "8\n",
      "Fizz\n",
      "9\n",
      "Buzz\n",
      "10\n",
      "11\n",
      "Fizz\n",
      "12\n",
      "13\n",
      "14\n",
      "Fizz\n",
      "Buzz\n",
      "FizzBuzz\n",
      "16\n",
      "17\n",
      "Fizz\n",
      "18\n",
      "19\n",
      "Buzz\n",
      "20\n",
      "Fizz\n",
      "21\n",
      "22\n",
      "23\n",
      "Fizz\n",
      "24\n",
      "Buzz\n",
      "25\n",
      "26\n",
      "Fizz\n",
      "27\n",
      "28\n",
      "29\n",
      "Fizz\n",
      "Buzz\n",
      "FizzBuzz\n",
      "31\n",
      "32\n",
      "Fizz\n",
      "33\n",
      "34\n",
      "Buzz\n",
      "35\n",
      "Fizz\n",
      "36\n",
      "37\n",
      "38\n",
      "Fizz\n",
      "39\n",
      "Buzz\n",
      "40\n",
      "41\n",
      "Fizz\n",
      "42\n",
      "43\n",
      "44\n",
      "Fizz\n",
      "Buzz\n",
      "FizzBuzz\n",
      "46\n",
      "47\n",
      "Fizz\n",
      "48\n",
      "49\n",
      "Buzz\n",
      "50\n",
      "Fizz\n",
      "51\n",
      "52\n",
      "53\n",
      "Fizz\n",
      "54\n",
      "Buzz\n",
      "55\n",
      "56\n",
      "Fizz\n",
      "57\n",
      "58\n",
      "59\n",
      "Fizz\n",
      "Buzz\n",
      "FizzBuzz\n",
      "61\n",
      "62\n",
      "Fizz\n",
      "63\n",
      "64\n",
      "Buzz\n",
      "65\n",
      "Fizz\n",
      "66\n",
      "67\n",
      "68\n",
      "Fizz\n",
      "69\n",
      "Buzz\n",
      "70\n",
      "71\n",
      "Fizz\n",
      "72\n",
      "73\n",
      "74\n",
      "Fizz\n",
      "Buzz\n",
      "FizzBuzz\n",
      "76\n",
      "77\n",
      "Fizz\n",
      "78\n",
      "79\n",
      "Buzz\n",
      "80\n",
      "Fizz\n",
      "81\n",
      "82\n",
      "83\n",
      "Fizz\n",
      "84\n",
      "Buzz\n",
      "85\n",
      "86\n",
      "Fizz\n",
      "87\n",
      "88\n",
      "89\n",
      "Fizz\n",
      "Buzz\n",
      "FizzBuzz\n",
      "91\n",
      "92\n",
      "Fizz\n",
      "93\n",
      "94\n",
      "Buzz\n",
      "95\n",
      "Fizz\n",
      "96\n",
      "97\n",
      "98\n",
      "Fizz\n",
      "99\n",
      "Buzz\n",
      "100\n"
     ]
    }
   ],
   "source": [
    "for i in range (1,101):\n",
    "    if i % 3 == 0:\n",
    "        print(\"Fizz\")\n",
    "    if i % 5 == 0:\n",
    "        print(\"Buzz\")\n",
    "    if i % 15 == 0:  # if i % 3 == 0 and if i % 5 == 0:\n",
    "        print(\"FizzBuzz\")   \n",
    "    else:\n",
    "        print(i)"
   ]
  },
  {
   "cell_type": "markdown",
   "id": "e74a6cff",
   "metadata": {},
   "source": [
    "### Password Generator"
   ]
  },
  {
   "cell_type": "code",
   "execution_count": 32,
   "id": "72f75516",
   "metadata": {},
   "outputs": [
    {
     "name": "stdout",
     "output_type": "stream",
     "text": [
      "how many letters do you want in your password4\n",
      "how many numbers do you want in your password4\n",
      "how many symbols do you want in your password4\n",
      "dfae\n"
     ]
    }
   ],
   "source": [
    "import random\n",
    "\n",
    "letters = ['a','b','c','d','e','f','g']\n",
    "\n",
    "numbers = [1,2,3,4,5,6,7,8,9,0]\n",
    "\n",
    "symbols = [\"!\",\"@\",\"#\",\"$\",\"%\"]\n",
    "\n",
    "letpass = int(input('how many letters do you want in your password'))\n",
    "\n",
    "numpass = int(input('how many numbers do you want in your password'))\n",
    "\n",
    "sympass = int(input('how many symbols do you want in your password'))\n",
    "\n",
    "\n",
    "password = \"\"\n",
    "\n",
    "for i in range(1,letpass+1):\n",
    "    random_char = random.choice(letters)\n",
    "    password += random_char\n",
    "for i in range(1,numpass+1):\n",
    "    random_num = random.choice(numbers)\n",
    "    password += random_num\n",
    "for i in range(1,sympass+1):\n",
    "    random_sym = random.choice(symbols)\n",
    "    password += random_sym\n",
    "print(password)\n",
    "\n"
   ]
  },
  {
   "cell_type": "code",
   "execution_count": 33,
   "id": "6f5b45d3",
   "metadata": {},
   "outputs": [
    {
     "name": "stdout",
     "output_type": "stream",
     "text": [
      "how many letters do you want in your password 4\n",
      "how many numbers do you want in your password 4\n",
      "how many symbols do you want in your password 4\n",
      "aefd4013@%##\n"
     ]
    }
   ],
   "source": [
    "import random\n",
    "\n",
    "letters = ['a', 'b', 'c', 'd', 'e', 'f', 'g']\n",
    "numbers = [1, 2, 3, 4, 5, 6, 7, 8, 9, 0]\n",
    "symbols = [\"!\", \"@\", \"#\", \"$\", \"%\"]\n",
    "\n",
    "letpass = int(input('how many letters do you want in your password '))\n",
    "numpass = int(input('how many numbers do you want in your password '))\n",
    "sympass = int(input('how many symbols do you want in your password '))\n",
    "\n",
    "password = \"\"\n",
    "\n",
    "for i in range(1, letpass + 1):\n",
    "    random_char = random.choice(letters)\n",
    "    password += random_char\n",
    "\n",
    "for i in range(1, numpass + 1):\n",
    "    random_num = random.choice(numbers)\n",
    "    password += str(random_num)  # Convert random_num to string before concatenating\n",
    "\n",
    "for i in range(1, sympass + 1):\n",
    "    random_sym = random.choice(symbols)\n",
    "    password += random_sym\n",
    "\n",
    "print(password)\n"
   ]
  },
  {
   "cell_type": "code",
   "execution_count": null,
   "id": "2ae29342",
   "metadata": {},
   "outputs": [],
   "source": []
  },
  {
   "cell_type": "markdown",
   "id": "789ae2e9",
   "metadata": {},
   "source": [
    "### Discount Table\n",
    "A particular retailer is having a 60 percent off sale on a variety of discontinued\n",
    "products. The retailer would like to help its customers determine the reduced price\n",
    "of the merchandise by having a printed discount table on the shelf that shows the\n",
    "original prices and the prices after the discount has been applied. Write a program that\n",
    "uses a loop to generate this table, showing the original price, the discount amount,\n",
    "and the new price for purchases of $4.95, $9.95, $14.95, $19.95 and $24.95. Ensure\n",
    "that the discount amounts and the new prices are rounded to 2 decimal places when\n",
    "they are displayed."
   ]
  },
  {
   "cell_type": "code",
   "execution_count": 36,
   "id": "633a425b",
   "metadata": {},
   "outputs": [
    {
     "name": "stdout",
     "output_type": "stream",
     "text": [
      "Original Price -------- Dicount amount -------- New price\n",
      "4.95                       2.97                  1.98\n",
      "9.95                       5.97                  3.98\n",
      "14.95                       8.97                  5.98\n",
      "19.95                       11.97                  7.98\n",
      "24.95                       14.97                  9.98\n"
     ]
    }
   ],
   "source": [
    "purchases = [4.95,9.95,14.95,19.95,24.95]\n",
    "\n",
    "print('Original Price -------- Dicount amount -------- New price')\n",
    "for i in purchases:\n",
    "    print('{}                       {:.2f}                  {:.2f}'. format(i, i * 0.6, i - (i * 0.6))) \n",
    "\n"
   ]
  },
  {
   "cell_type": "markdown",
   "id": "1027ed20",
   "metadata": {},
   "source": [
    "### Temperature Conversion Table\n",
    "Write a program that displays a temperature conversion table for degrees Celsius and\n",
    "degrees Fahrenheit. The table should include rows for all temperatures between 0\n",
    "and 100 degrees Celsius that are multiples of 10 degrees Celsius. Include appropriate\n",
    "headings on your columns. The formula for converting between degrees Celsius and\n",
    "degrees Fahrenheit can be found on the internet."
   ]
  },
  {
   "cell_type": "code",
   "execution_count": 37,
   "id": "3273f051",
   "metadata": {},
   "outputs": [
    {
     "name": "stdout",
     "output_type": "stream",
     "text": [
      "Celsius\tFahrenheit\n",
      "0\t32.00\n",
      "10\t50.00\n",
      "20\t68.00\n",
      "30\t86.00\n",
      "40\t104.00\n",
      "50\t122.00\n",
      "60\t140.00\n",
      "70\t158.00\n",
      "80\t176.00\n",
      "90\t194.00\n",
      "100\t212.00\n"
     ]
    }
   ],
   "source": [
    "def celsius_to_fahrenheit(celsius):\n",
    "    \"\"\"Converts Celsius temperature to Fahrenheit.\"\"\"\n",
    "    return (celsius * 9/5) + 32\n",
    "\n",
    "\n",
    "print(\"Celsius\\tFahrenheit\")\n",
    "\n",
    "# Generate and print temperature conversion table\n",
    "for celsius in range(0, 101, 10): \n",
    "    fahrenheit = celsius_to_fahrenheit(celsius)\n",
    "    print(f\"{celsius}\\t{fahrenheit:.2f}\")\n"
   ]
  },
  {
   "cell_type": "markdown",
   "id": "6da725bd",
   "metadata": {},
   "source": [
    "# Note: Try - Except"
   ]
  },
  {
   "cell_type": "code",
   "execution_count": 38,
   "id": "e2b8d2c7",
   "metadata": {},
   "outputs": [
    {
     "name": "stdout",
     "output_type": "stream",
     "text": [
      "what is your height?  1.98\n",
      "square of 1.98 is 3.9204\n"
     ]
    }
   ],
   "source": [
    "try:\n",
    "    number = float((input('what is your height?  ')))\n",
    "    print(f'square of {number} is {number**2}')\n",
    "except:\n",
    "    print('Warning: Check your input!')"
   ]
  },
  {
   "cell_type": "code",
   "execution_count": 39,
   "id": "b4943256",
   "metadata": {},
   "outputs": [
    {
     "name": "stdout",
     "output_type": "stream",
     "text": [
      "what is your height?  hasan\n",
      "Warning: Check your input!\n"
     ]
    }
   ],
   "source": [
    "try:\n",
    "    number = float((input('what is your height?  ')))\n",
    "    print(f'square of {number} is {number**2}')\n",
    "except:\n",
    "    print('Warning: Check your input!')"
   ]
  },
  {
   "cell_type": "markdown",
   "id": "c1fb823c",
   "metadata": {},
   "source": [
    "# Raise  (customize error messages : good for debugging)"
   ]
  },
  {
   "cell_type": "code",
   "execution_count": 40,
   "id": "4057125e",
   "metadata": {},
   "outputs": [
    {
     "ename": "ValueError",
     "evalue": "math domain error",
     "output_type": "error",
     "traceback": [
      "\u001b[0;31m---------------------------------------------------------------------------\u001b[0m",
      "\u001b[0;31mValueError\u001b[0m                                Traceback (most recent call last)",
      "\u001b[0;32m/var/folders/n4/_fnk863x1sngtzcq9s6ry4z40000gn/T/ipykernel_47849/1146348503.py\u001b[0m in \u001b[0;36m<module>\u001b[0;34m\u001b[0m\n\u001b[1;32m      1\u001b[0m \u001b[0;32mimport\u001b[0m \u001b[0mmath\u001b[0m\u001b[0;34m\u001b[0m\u001b[0;34m\u001b[0m\u001b[0m\n\u001b[1;32m      2\u001b[0m \u001b[0;34m\u001b[0m\u001b[0m\n\u001b[0;32m----> 3\u001b[0;31m \u001b[0mmath\u001b[0m\u001b[0;34m.\u001b[0m\u001b[0msqrt\u001b[0m\u001b[0;34m(\u001b[0m\u001b[0;34m-\u001b[0m\u001b[0;36m4\u001b[0m\u001b[0;34m)\u001b[0m\u001b[0;34m\u001b[0m\u001b[0;34m\u001b[0m\u001b[0m\n\u001b[0m",
      "\u001b[0;31mValueError\u001b[0m: math domain error"
     ]
    }
   ],
   "source": [
    "import math\n",
    "\n",
    "math.sqrt(-4)"
   ]
  },
  {
   "cell_type": "code",
   "execution_count": 41,
   "id": "a7ed7d7a",
   "metadata": {},
   "outputs": [
    {
     "ename": "ValueError",
     "evalue": "you can change it, good for debugging",
     "output_type": "error",
     "traceback": [
      "\u001b[0;31m---------------------------------------------------------------------------\u001b[0m",
      "\u001b[0;31mValueError\u001b[0m                                Traceback (most recent call last)",
      "\u001b[0;32m/var/folders/n4/_fnk863x1sngtzcq9s6ry4z40000gn/T/ipykernel_47849/1522159159.py\u001b[0m in \u001b[0;36m<module>\u001b[0;34m\u001b[0m\n\u001b[1;32m      1\u001b[0m \u001b[0mn\u001b[0m \u001b[0;34m=\u001b[0m \u001b[0;34m-\u001b[0m\u001b[0;36m4\u001b[0m\u001b[0;34m\u001b[0m\u001b[0;34m\u001b[0m\u001b[0m\n\u001b[1;32m      2\u001b[0m \u001b[0;32mif\u001b[0m \u001b[0mn\u001b[0m \u001b[0;34m<=\u001b[0m \u001b[0;36m0\u001b[0m\u001b[0;34m:\u001b[0m\u001b[0;34m\u001b[0m\u001b[0;34m\u001b[0m\u001b[0m\n\u001b[0;32m----> 3\u001b[0;31m     \u001b[0;32mraise\u001b[0m \u001b[0mValueError\u001b[0m\u001b[0;34m(\u001b[0m\u001b[0;34m'you can change it, good for debugging'\u001b[0m\u001b[0;34m)\u001b[0m\u001b[0;34m\u001b[0m\u001b[0;34m\u001b[0m\u001b[0m\n\u001b[0m",
      "\u001b[0;31mValueError\u001b[0m: you can change it, good for debugging"
     ]
    }
   ],
   "source": [
    "n = -4\n",
    "if n <= 0:\n",
    "    raise ValueError('you can change it, good for debugging')"
   ]
  },
  {
   "cell_type": "code",
   "execution_count": null,
   "id": "e68ee3d4",
   "metadata": {},
   "outputs": [],
   "source": []
  }
 ],
 "metadata": {
  "kernelspec": {
   "display_name": "Python 3 (ipykernel)",
   "language": "python",
   "name": "python3"
  },
  "language_info": {
   "codemirror_mode": {
    "name": "ipython",
    "version": 3
   },
   "file_extension": ".py",
   "mimetype": "text/x-python",
   "name": "python",
   "nbconvert_exporter": "python",
   "pygments_lexer": "ipython3",
   "version": "3.9.13"
  }
 },
 "nbformat": 4,
 "nbformat_minor": 5
}
