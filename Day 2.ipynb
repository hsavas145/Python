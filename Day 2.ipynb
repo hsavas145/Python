{
 "cells": [
  {
   "cell_type": "markdown",
   "id": "38b53311",
   "metadata": {},
   "source": [
    "# Python Practice Day 2"
   ]
  },
  {
   "cell_type": "markdown",
   "id": "8347e840",
   "metadata": {},
   "source": [
    "## --if/else and Conditional Operators"
   ]
  },
  {
   "cell_type": "code",
   "execution_count": 1,
   "id": "9a6a00ad",
   "metadata": {},
   "outputs": [
    {
     "name": "stdout",
     "output_type": "stream",
     "text": [
      "write a number to check -----> 17\n",
      "17 is NOT divisible by 2\n"
     ]
    }
   ],
   "source": [
    "number = int(input('write a number to check -----> '))\n",
    "\n",
    "if number % 2 == 0:\n",
    "    print(f'{number} is divisible by 2')\n",
    "else:\n",
    "    print(f'{number} is NOT divisible by 2')"
   ]
  },
  {
   "cell_type": "code",
   "execution_count": 2,
   "id": "1dcab695",
   "metadata": {},
   "outputs": [
    {
     "name": "stdout",
     "output_type": "stream",
     "text": [
      "what is your weight ----->>86\n",
      "what is your height ----->>1.74\n",
      "Your BMI is 28.41 and you are slightly overweight\n"
     ]
    }
   ],
   "source": [
    "weight = int(input('what is your weight ----->>'))\n",
    "\n",
    "height = float(input('what is your height ----->>'))\n",
    "\n",
    "BMI = weight / (height ** 2)\n",
    "\n",
    "if BMI < 18.5:\n",
    "    print(f'Your BMI is {round(BMI,2)} and you are underweight')\n",
    "elif BMI >= 18.5 and BMI < 25:\n",
    "    print(f'Your BMI is {round(BMI,2)} and you have normal weight')\n",
    "elif BMI >= 25 and BMI < 30:\n",
    "    print(f'Your BMI is {round(BMI,2)} and you are slightly overweight')\n",
    "elif BMI >= 30 and BMI < 35:\n",
    "    print(f'Your BMI is {round(BMI,2)} and you are obese')\n",
    "elif BMI > 35:\n",
    "    print(f'Your BMI is {round(BMI,2)} and you are clinically obese')\n",
    "else:\n",
    "    print('check your inputs again')"
   ]
  },
  {
   "cell_type": "markdown",
   "id": "cf48b30a",
   "metadata": {},
   "source": [
    "## The Love Calculator"
   ]
  },
  {
   "cell_type": "code",
   "execution_count": 5,
   "id": "cd25d784",
   "metadata": {},
   "outputs": [
    {
     "name": "stdout",
     "output_type": "stream",
     "text": [
      "What is your name?hasan\n",
      "What is your partners' namemelike\n",
      "your love score is: 23\n"
     ]
    }
   ],
   "source": [
    "name1 = input('What is your name?')\n",
    "\n",
    "name2 = input(\"What is your partners' name\")\n",
    "\n",
    "combine_names = name1+name2\n",
    "\n",
    "lower_names = combine_names.lower()\n",
    "\n",
    "t = lower_names.count('t')\n",
    "\n",
    "r = lower_names.count('r')\n",
    "\n",
    "u = lower_names.count('u')\n",
    "\n",
    "e = lower_names.count('e')\n",
    "\n",
    "first_digit = t+r+u+e\n",
    "\n",
    "l = lower_names.count('l')\n",
    "\n",
    "o = lower_names.count('o')\n",
    "\n",
    "v = lower_names.count('v')\n",
    "\n",
    "e = lower_names.count('e')\n",
    "\n",
    "second_digit = l+o+v+e\n",
    "\n",
    "\n",
    "score = int(str(first_digit) + str(second_digit))\n",
    "\n",
    "\n",
    "if (score < 10) and (score>90):\n",
    "    print(f'your love score is: {score} and you go together like coke and mentos')\n",
    "elif (score>= 40) and (score <=50):\n",
    "    print(f'your love score is: {score} and you are alright together')\n",
    "else:\n",
    "    print(f'your love score is: {score}')\n"
   ]
  },
  {
   "cell_type": "markdown",
   "id": "2ebc5e31",
   "metadata": {},
   "source": [
    "## Rock-Paper-Scissors"
   ]
  },
  {
   "cell_type": "code",
   "execution_count": 6,
   "id": "7983bb27",
   "metadata": {},
   "outputs": [],
   "source": [
    "import random"
   ]
  },
  {
   "cell_type": "code",
   "execution_count": 16,
   "id": "6e26784f",
   "metadata": {},
   "outputs": [
    {
     "name": "stdout",
     "output_type": "stream",
     "text": [
      "pick one between rock, paper and scissors---->Rock\n",
      "User chose rock\n",
      "Computer chose rock\n",
      "Tie game\n"
     ]
    }
   ],
   "source": [
    "user = input('pick one between rock, paper and scissors---->').lower()\n",
    "\n",
    "print(f'User chose {user}')\n",
    "\n",
    "\n",
    "list = ('rock','paper','scissors')\n",
    "\n",
    "computer = random.choice(list)\n",
    "\n",
    "print(f'Computer chose {computer}')\n",
    "\n",
    "if user == \"paper\" and computer ==\"rock\":\n",
    "    print('You won')\n",
    "elif user == \"paper\" and computer ==\"scissors\":\n",
    "    print('Computer won')\n",
    "elif user == \"rock\" and computer ==\"paper\":\n",
    "    print('Computer won')\n",
    "elif user == \"rock\" and computer ==\"scissors\":\n",
    "    print('You won')\n",
    "elif user == \"scissors\" and computer ==\"rock\":\n",
    "    print('Computer won')\n",
    "elif user == \"scissors\" and computer ==\"paper\":\n",
    "    print('You won')\n",
    "else:\n",
    "    print('Tie game')"
   ]
  },
  {
   "cell_type": "markdown",
   "id": "f93ef128",
   "metadata": {},
   "source": [
    "### --->ChatGPT response"
   ]
  },
  {
   "cell_type": "code",
   "execution_count": 17,
   "id": "eb64ccd6",
   "metadata": {},
   "outputs": [
    {
     "name": "stdout",
     "output_type": "stream",
     "text": [
      "Enter your choice (rock, paper, scissors): rock\n",
      "You chose: rock\n",
      "Computer chose: rock\n",
      "It's a tie!\n"
     ]
    }
   ],
   "source": [
    "import random\n",
    "\n",
    "def get_user_choice():\n",
    "    user_choice = input(\"Enter your choice (rock, paper, scissors): \").lower()\n",
    "    while user_choice not in [\"rock\", \"paper\", \"scissors\"]:\n",
    "        print(\"Invalid choice. Please try again.\")\n",
    "        user_choice = input(\"Enter your choice (rock, paper, scissors): \").lower()\n",
    "    return user_choice\n",
    "\n",
    "def get_computer_choice():\n",
    "    choices = [\"rock\", \"paper\", \"scissors\"]\n",
    "    return random.choice(choices)\n",
    "\n",
    "def determine_winner(user_choice, computer_choice):\n",
    "    if user_choice == computer_choice:\n",
    "        return \"It's a tie!\"\n",
    "    elif user_choice == \"rock\":\n",
    "        return \"You win!\" if computer_choice == \"scissors\" else \"Computer wins!\"\n",
    "    elif user_choice == \"paper\":\n",
    "        return \"You win!\" if computer_choice == \"rock\" else \"Computer wins!\"\n",
    "    elif user_choice == \"scissors\":\n",
    "        return \"You win!\" if computer_choice == \"paper\" else \"Computer wins!\"\n",
    "\n",
    "def play_game():\n",
    "    user_choice = get_user_choice()\n",
    "    computer_choice = get_computer_choice()\n",
    "    print(f\"You chose: {user_choice}\")\n",
    "    print(f\"Computer chose: {computer_choice}\")\n",
    "    result = determine_winner(user_choice, computer_choice)\n",
    "    print(result)\n",
    "\n",
    "# Play the game\n",
    "play_game()\n"
   ]
  },
  {
   "cell_type": "code",
   "execution_count": null,
   "id": "8dffcf08",
   "metadata": {},
   "outputs": [],
   "source": []
  }
 ],
 "metadata": {
  "kernelspec": {
   "display_name": "Python 3 (ipykernel)",
   "language": "python",
   "name": "python3"
  },
  "language_info": {
   "codemirror_mode": {
    "name": "ipython",
    "version": 3
   },
   "file_extension": ".py",
   "mimetype": "text/x-python",
   "name": "python",
   "nbconvert_exporter": "python",
   "pygments_lexer": "ipython3",
   "version": "3.9.13"
  }
 },
 "nbformat": 4,
 "nbformat_minor": 5
}
