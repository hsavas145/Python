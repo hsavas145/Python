{
 "cells": [
  {
   "cell_type": "code",
   "execution_count": 1,
   "id": "97d24e72",
   "metadata": {},
   "outputs": [
    {
     "name": "stdout",
     "output_type": "stream",
     "text": [
      "Hello World\n"
     ]
    }
   ],
   "source": [
    "print(\"Hello World\")"
   ]
  },
  {
   "cell_type": "code",
   "execution_count": 2,
   "id": "72708185",
   "metadata": {},
   "outputs": [
    {
     "name": "stdout",
     "output_type": "stream",
     "text": [
      "Hello World\n",
      "Hello World\n"
     ]
    }
   ],
   "source": [
    "print(\"Hello World\\nHello World\")"
   ]
  },
  {
   "cell_type": "code",
   "execution_count": 3,
   "id": "89871091",
   "metadata": {},
   "outputs": [
    {
     "name": "stdout",
     "output_type": "stream",
     "text": [
      "Hello World\n",
      "    Hello World\n"
     ]
    }
   ],
   "source": [
    "print(\"Hello World\\n    Hello World\") #if you want to add space, simply add space after \\n"
   ]
  },
  {
   "cell_type": "code",
   "execution_count": 4,
   "id": "840a009e",
   "metadata": {},
   "outputs": [
    {
     "name": "stdout",
     "output_type": "stream",
     "text": [
      "HelloHasan\n"
     ]
    }
   ],
   "source": [
    "print('Hello' + \"Hasan\")"
   ]
  },
  {
   "cell_type": "code",
   "execution_count": 5,
   "id": "6d921b52",
   "metadata": {},
   "outputs": [
    {
     "name": "stdout",
     "output_type": "stream",
     "text": [
      "Hello Hasan!\n"
     ]
    }
   ],
   "source": [
    "print('Hello' + \" \" + \"Hasan!\")"
   ]
  },
  {
   "cell_type": "code",
   "execution_count": 6,
   "id": "e16b800b",
   "metadata": {},
   "outputs": [
    {
     "name": "stdout",
     "output_type": "stream",
     "text": [
      "Hello Hasan!Hasan!Hasan!\n"
     ]
    }
   ],
   "source": [
    "print('Hello' + \" \" + \"Hasan!\"*3)"
   ]
  },
  {
   "cell_type": "code",
   "execution_count": 7,
   "id": "d38c648e",
   "metadata": {},
   "outputs": [
    {
     "name": "stdout",
     "output_type": "stream",
     "text": [
      "Hello Hasan!\n"
     ]
    },
    {
     "ename": "TypeError",
     "evalue": "unsupported operand type(s) for *: 'NoneType' and 'int'",
     "output_type": "error",
     "traceback": [
      "\u001b[0;31m---------------------------------------------------------------------------\u001b[0m",
      "\u001b[0;31mTypeError\u001b[0m                                 Traceback (most recent call last)",
      "\u001b[0;32m/var/folders/n4/_fnk863x1sngtzcq9s6ry4z40000gn/T/ipykernel_34823/111525223.py\u001b[0m in \u001b[0;36m<module>\u001b[0;34m\u001b[0m\n\u001b[0;32m----> 1\u001b[0;31m \u001b[0mprint\u001b[0m\u001b[0;34m(\u001b[0m\u001b[0;34m'Hello'\u001b[0m \u001b[0;34m+\u001b[0m \u001b[0;34m\" \"\u001b[0m \u001b[0;34m+\u001b[0m \u001b[0;34m\"Hasan!\"\u001b[0m\u001b[0;34m)\u001b[0m\u001b[0;34m*\u001b[0m\u001b[0;36m3\u001b[0m\u001b[0;34m\u001b[0m\u001b[0;34m\u001b[0m\u001b[0m\n\u001b[0m",
      "\u001b[0;31mTypeError\u001b[0m: unsupported operand type(s) for *: 'NoneType' and 'int'"
     ]
    }
   ],
   "source": [
    "print('Hello' + \" \" + \"Hasan!\")*3"
   ]
  },
  {
   "cell_type": "code",
   "execution_count": 8,
   "id": "dad0ff95",
   "metadata": {},
   "outputs": [
    {
     "name": "stdout",
     "output_type": "stream",
     "text": [
      "What is your name?Hasan\n",
      "Hasan\n"
     ]
    }
   ],
   "source": [
    "print(input('What is your name?'))"
   ]
  },
  {
   "cell_type": "code",
   "execution_count": 9,
   "id": "97805229",
   "metadata": {},
   "outputs": [
    {
     "name": "stdout",
     "output_type": "stream",
     "text": [
      "What is your name?  Hasan\n",
      "Hasan\n"
     ]
    }
   ],
   "source": [
    "print(input('What is your name?  '))"
   ]
  },
  {
   "cell_type": "code",
   "execution_count": 10,
   "id": "8d885faa",
   "metadata": {},
   "outputs": [
    {
     "name": "stdout",
     "output_type": "stream",
     "text": [
      "What is your name?  Hasan\n",
      "Hello Hasan\n"
     ]
    }
   ],
   "source": [
    "print(\"Hello\" +\" \"+ input('What is your name?  '))"
   ]
  },
  {
   "cell_type": "code",
   "execution_count": 26,
   "id": "cd14c7cf",
   "metadata": {},
   "outputs": [
    {
     "name": "stdout",
     "output_type": "stream",
     "text": [
      "What is your name?hasan\n"
     ]
    },
    {
     "data": {
      "text/plain": [
       "5"
      ]
     },
     "execution_count": 26,
     "metadata": {},
     "output_type": "execute_result"
    }
   ],
   "source": [
    "len(input('What is your name?'))"
   ]
  },
  {
   "cell_type": "code",
   "execution_count": 27,
   "id": "20ccbfaf",
   "metadata": {},
   "outputs": [
    {
     "name": "stdout",
     "output_type": "stream",
     "text": [
      "what is your name?hasan\n"
     ]
    }
   ],
   "source": [
    "name = input('what is your name?')"
   ]
  },
  {
   "cell_type": "code",
   "execution_count": 28,
   "id": "b49388bd",
   "metadata": {},
   "outputs": [],
   "source": [
    "length = len(name)"
   ]
  },
  {
   "cell_type": "code",
   "execution_count": 29,
   "id": "44c9b952",
   "metadata": {},
   "outputs": [
    {
     "name": "stdout",
     "output_type": "stream",
     "text": [
      "5\n"
     ]
    }
   ],
   "source": [
    "print(length)"
   ]
  },
  {
   "cell_type": "code",
   "execution_count": 12,
   "id": "d94e59a6",
   "metadata": {},
   "outputs": [
    {
     "data": {
      "text/plain": [
       "'H'"
      ]
     },
     "execution_count": 12,
     "metadata": {},
     "output_type": "execute_result"
    }
   ],
   "source": [
    "'Hello'[0]"
   ]
  },
  {
   "cell_type": "code",
   "execution_count": 13,
   "id": "8f7bb3fa",
   "metadata": {},
   "outputs": [
    {
     "ename": "IndexError",
     "evalue": "string index out of range",
     "output_type": "error",
     "traceback": [
      "\u001b[0;31m---------------------------------------------------------------------------\u001b[0m",
      "\u001b[0;31mIndexError\u001b[0m                                Traceback (most recent call last)",
      "\u001b[0;32m/var/folders/n4/_fnk863x1sngtzcq9s6ry4z40000gn/T/ipykernel_34823/2054710873.py\u001b[0m in \u001b[0;36m<module>\u001b[0;34m\u001b[0m\n\u001b[0;32m----> 1\u001b[0;31m \u001b[0;34m'Hello'\u001b[0m\u001b[0;34m[\u001b[0m\u001b[0;36m5\u001b[0m\u001b[0;34m]\u001b[0m\u001b[0;34m\u001b[0m\u001b[0;34m\u001b[0m\u001b[0m\n\u001b[0m",
      "\u001b[0;31mIndexError\u001b[0m: string index out of range"
     ]
    }
   ],
   "source": [
    "'Hello'[5]"
   ]
  },
  {
   "cell_type": "code",
   "execution_count": 14,
   "id": "0f6fd1ac",
   "metadata": {},
   "outputs": [
    {
     "name": "stdout",
     "output_type": "stream",
     "text": [
      "357\n"
     ]
    }
   ],
   "source": [
    "num1 = print(123+234)\n",
    "num1"
   ]
  },
  {
   "cell_type": "code",
   "execution_count": 15,
   "id": "1363f561",
   "metadata": {},
   "outputs": [
    {
     "name": "stdout",
     "output_type": "stream",
     "text": [
      "123234\n"
     ]
    }
   ],
   "source": [
    "num2 = print(\"123\"+\"234\")\n",
    "num2"
   ]
  },
  {
   "cell_type": "code",
   "execution_count": 18,
   "id": "026742c2",
   "metadata": {},
   "outputs": [
    {
     "name": "stdout",
     "output_type": "stream",
     "text": [
      "What is your height1.76\n",
      "What is your weight86\n",
      "27.763429752066116\n",
      "27.0\n"
     ]
    }
   ],
   "source": [
    "height = input(\"What is your height\")\n",
    "weight = input(\"What is your weight\")\n",
    "\n",
    "height_as_float = float(height)\n",
    "weight_as_int = int(weight)\n",
    "\n",
    "BMI = weight_as_int / (height_as_float ** 2)\n",
    "\n",
    "BMI_whole_num = weight_as_int // (height_as_float ** 2)\n",
    "\n",
    "print(BMI)\n",
    "print(BMI_whole_num)"
   ]
  },
  {
   "cell_type": "code",
   "execution_count": 19,
   "id": "b5461020",
   "metadata": {},
   "outputs": [
    {
     "name": "stdout",
     "output_type": "stream",
     "text": [
      "27.76\n"
     ]
    }
   ],
   "source": [
    "print(round(BMI,2))"
   ]
  },
  {
   "cell_type": "code",
   "execution_count": 20,
   "id": "57e623c8",
   "metadata": {},
   "outputs": [],
   "source": [
    "import math as math"
   ]
  },
  {
   "cell_type": "code",
   "execution_count": 21,
   "id": "93b92d9e",
   "metadata": {},
   "outputs": [
    {
     "name": "stdout",
     "output_type": "stream",
     "text": [
      "27\n"
     ]
    }
   ],
   "source": [
    "print(math.floor(BMI))"
   ]
  },
  {
   "cell_type": "code",
   "execution_count": 22,
   "id": "c0e62bf2",
   "metadata": {},
   "outputs": [
    {
     "name": "stdout",
     "output_type": "stream",
     "text": [
      "28\n"
     ]
    }
   ],
   "source": [
    "print(math.ceil(BMI))"
   ]
  },
  {
   "cell_type": "code",
   "execution_count": 23,
   "id": "4f2cd736",
   "metadata": {},
   "outputs": [
    {
     "name": "stdout",
     "output_type": "stream",
     "text": [
      "your BMI is 27.76\n"
     ]
    }
   ],
   "source": [
    "print(f'your BMI is {round(BMI,2)}')"
   ]
  },
  {
   "cell_type": "code",
   "execution_count": 24,
   "id": "0dd8be59",
   "metadata": {},
   "outputs": [
    {
     "name": "stdout",
     "output_type": "stream",
     "text": [
      "how old are you36\n",
      "you lived 1872 weeks so far, and you have 2128 weeks if you can reach age of 90\n"
     ]
    }
   ],
   "source": [
    "age = int(input('how old are you'))\n",
    "\n",
    "weeks_passed =age*52\n",
    "\n",
    "weeks_left= 4000-(weeks_passed)\n",
    "\n",
    "print(f'you lived {weeks_passed} weeks so far, and you have {weeks_left} weeks if you can reach age of 90')"
   ]
  },
  {
   "cell_type": "markdown",
   "id": "0a7dc66b",
   "metadata": {},
   "source": [
    "## tip calculator"
   ]
  },
  {
   "cell_type": "code",
   "execution_count": 25,
   "id": "0c54923d",
   "metadata": {},
   "outputs": [
    {
     "name": "stdout",
     "output_type": "stream",
     "text": [
      "what was your total bill today?       123.44\n",
      "what percentage of tip would you prefer: 10%, 15% or 20%       15\n",
      "how many people do you want to split the bill     3\n",
      "Your bill for each person : $47.32, Thank you and come again     \n",
      "Your bill for each person : $47.32, Thank you and come again     \n",
      "Your bill for each person : $47.32, Thank you and come again     \n"
     ]
    }
   ],
   "source": [
    "total_bill = float(input('what was your total bill today?       '))\n",
    "\n",
    "tip_amount = int(input('what percentage of tip would you prefer: 10%, 15% or 20%       '))\n",
    "\n",
    "total_ppl = int(input('how many people do you want to split the bill     '))\n",
    "\n",
    "amount_per_person = (total_bill + (total_bill* tip_amount / 100)) / total_ppl\n",
    "\n",
    "print(f'Your bill for each person : ${round(amount_per_person,2)}, Thank you and come again     ')\n",
    "\n",
    "amount_per_person_ver2 = (\"%.2f\" % round(amount_per_person,2))\n",
    "\n",
    "amount_per_person_ver3 = (\"{:.2f}\".format(amount_per_person))\n",
    "\n",
    "\n",
    "print(f'Your bill for each person : ${amount_per_person_ver2}, Thank you and come again     ')\n",
    "\n",
    "print(f'Your bill for each person : ${amount_per_person_ver3}, Thank you and come again     ')"
   ]
  },
  {
   "cell_type": "code",
   "execution_count": null,
   "id": "3d9b6430",
   "metadata": {},
   "outputs": [],
   "source": []
  }
 ],
 "metadata": {
  "kernelspec": {
   "display_name": "Python 3 (ipykernel)",
   "language": "python",
   "name": "python3"
  },
  "language_info": {
   "codemirror_mode": {
    "name": "ipython",
    "version": 3
   },
   "file_extension": ".py",
   "mimetype": "text/x-python",
   "name": "python",
   "nbconvert_exporter": "python",
   "pygments_lexer": "ipython3",
   "version": "3.9.13"
  }
 },
 "nbformat": 4,
 "nbformat_minor": 5
}
